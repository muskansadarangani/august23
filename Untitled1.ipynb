{
  "nbformat": 4,
  "nbformat_minor": 0,
  "metadata": {
    "colab": {
      "provenance": []
    },
    "kernelspec": {
      "name": "python3",
      "display_name": "Python 3"
    },
    "language_info": {
      "name": "python"
    }
  },
  "cells": [
    {
      "cell_type": "code",
      "execution_count": null,
      "metadata": {
        "colab": {
          "base_uri": "https://localhost:8080/"
        },
        "id": "Ql0pZqSj6DzF",
        "outputId": "2abe713f-d6f5-4745-d933-ab2eccfce78d"
      },
      "outputs": [
        {
          "output_type": "stream",
          "name": "stdout",
          "text": [
            "enter the value of x:4\n",
            "x is positive number\n"
          ]
        }
      ],
      "source": [
        "#checks the number is positive negative or nuteral\n",
        "x=int(input(\"enter the value of x:\"))\n",
        "if(x<0):\n",
        "  print(\"x is negative number\")\n",
        "elif(x>0):\n",
        "    print(\"x is positive number\")\n",
        "else:\n",
        "    print(\"x is nuteral\")\n"
      ]
    },
    {
      "cell_type": "code",
      "source": [
        "#checks the odd number\n",
        "x=int(input(\"enter the value of x:\"))\n",
        "if(x%2==0):\n",
        "    print(\"x is even number\")\n",
        "else:\n",
        "    print(\"x is odd number\")"
      ],
      "metadata": {
        "colab": {
          "base_uri": "https://localhost:8080/"
        },
        "id": "qytf23Ik6e8_",
        "outputId": "f53da7be-929f-41e9-ab38-e901b7c473d6"
      },
      "execution_count": null,
      "outputs": [
        {
          "output_type": "stream",
          "name": "stdout",
          "text": [
            "enter the value of x:41\n",
            "x is odd number\n"
          ]
        }
      ]
    },
    {
      "cell_type": "code",
      "source": [
        "#take 5 numbers input from the user and find average\n",
        "num1=int(input(\"enter the value of num1:\"))\n",
        "num2=int(input(\"enter the value of num2:\"))\n",
        "num3=int(input(\"enter the value of num3:\"))\n",
        "num4=int(input(\"enter the value of num4:\"))\n",
        "num5=int(input(\"enter the value of num5:\"))\n",
        "avg=(num1+num2+num3+num4+num5)/5\n",
        "print(\"the avg of numner= %f\" %avg)"
      ],
      "metadata": {
        "colab": {
          "base_uri": "https://localhost:8080/"
        },
        "id": "kd9L5blx64H_",
        "outputId": "e1eb8b56-680b-45d0-e654-f18bd4894907"
      },
      "execution_count": null,
      "outputs": [
        {
          "output_type": "stream",
          "name": "stdout",
          "text": [
            "enter the value of num1:1\n",
            "enter the value of num2:2\n",
            "enter the value of num3:3\n",
            "enter the value of num4:4\n",
            "enter the value of num5:5\n",
            "the avg of numner= 3.000000\n"
          ]
        }
      ]
    },
    {
      "cell_type": "code",
      "source": [
        "#take a input from a user in terms of weight in kg and change in pound\n",
        "weight_kg = float(input(\"Enter weight in kilograms: \"))\n",
        "weight_pounds = weight_kg * 2.20462\n",
        "print(f\"{weight_kg} kilograms is equal to {weight_pounds} pounds.\")\n"
      ],
      "metadata": {
        "colab": {
          "base_uri": "https://localhost:8080/"
        },
        "id": "T5Z7PTTg8o6C",
        "outputId": "945a5f89-57fe-43ce-deb7-9dee354a986a"
      },
      "execution_count": null,
      "outputs": [
        {
          "output_type": "stream",
          "name": "stdout",
          "text": [
            "Enter weight in kilograms: 2\n",
            "2.0 kilograms is equal to 4.40924 pounds.\n"
          ]
        }
      ]
    },
    {
      "cell_type": "code",
      "source": [
        "# take a user input to print the height of the user\n",
        "def convert_feet_to_inches(feet):\n",
        "    return feet * 12\n",
        "\n",
        "def convert_feet_to_centimeters(feet):\n",
        "    return feet * 30.48\n",
        "\n",
        "def convert_feet_to_meters(feet):\n",
        "    return feet * 0.3048\n",
        "\n",
        "def main():\n",
        "        feet = float(input(\"Enter height in feet: \"))\n",
        "        choice = int(input(\"Enter your choice (1 for inches, 2 for centimeters, 3 for meters): \"))\n",
        "\n",
        "        if choice == 1:\n",
        "            result = convert_feet_to_inches(feet)\n",
        "            print(f\"Height: {result:.2f} inches\")\n",
        "        elif choice == 2:\n",
        "            result = convert_feet_to_centimeters(feet)\n",
        "            print(f\"Height: {result:.2f} centimeters\")\n",
        "        elif choice == 3:\n",
        "            result = convert_feet_to_meters(feet)\n",
        "            print(f\"Height: {result:.2f} meters\")\n",
        "        else:\n",
        "            print(\"Invalid choice. Please enter 1, 2, or 3.\")\n",
        "    except ValueError:\n",
        "        print(\"Invalid input. Please enter a valid number.\")\n",
        "\n",
        "if __name__ == \"__main__\":\n",
        "    main()\n"
      ],
      "metadata": {
        "id": "uKHQfBbD-S26"
      },
      "execution_count": null,
      "outputs": []
    }
  ]
}